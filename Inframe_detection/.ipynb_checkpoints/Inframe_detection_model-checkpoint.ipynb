{
 "cells": [
  {
   "cell_type": "markdown",
   "metadata": {},
   "source": [
    "## Display Images"
   ]
  },
  {
   "cell_type": "code",
   "execution_count": 21,
   "metadata": {
    "pycharm": {
     "is_executing": false
    }
   },
   "outputs": [
    {
     "data": {
      "text/html": [
       "<img style='width: 200px; height:160px; margin: 0px; float: left; border: 1px solid black;' src='http://mw2.google.com/mw-panoramio/photos/medium/87035941.jpg' /><img style='width: 200px; height:160px; margin: 0px; float: left; border: 1px solid black;' src='https://lh4.googleusercontent.com/-GRxQ8nCWSSE/TEi9wCJn84I/AAAAAAAAAZw/Fn2kG-mRFkY/s96/' /><img style='width: 200px; height:160px; margin: 0px; float: left; border: 1px solid black;' src='http://lh6.ggpht.com/-Sf5b7gRASS0/RnTgi8QuBmI/AAAAAAAAA3Y/6EIBHX3MOeA/s96/' /><img style='width: 200px; height:160px; margin: 0px; float: left; border: 1px solid black;' src='https://lh3.googleusercontent.com/-kA9tFIJZOCc/TlI-guoaNpI/AAAAAAAAIx8/_MNwmcoUpMY/s96/' /><img style='width: 200px; height:160px; margin: 0px; float: left; border: 1px solid black;' src='http://lh4.ggpht.com/-CdA3BKopjpY/SEWAbOaSpSI/AAAAAAAAB6Y/jjSTeWq2k3o/s96/' /><img style='width: 200px; height:160px; margin: 0px; float: left; border: 1px solid black;' src='https://lh4.googleusercontent.com/-VoF8ZP9wKGQ/TDn6gNNqKeI/AAAAAAAAA7M/CpQX9orVMEw/s96/' /><img style='width: 200px; height:160px; margin: 0px; float: left; border: 1px solid black;' src='https://lh6.googleusercontent.com/-uWHPgGpIGv0/Sr0j84vlYEI/AAAAAAAAAxY/QDsnvlNt_so/s96/' /><img style='width: 200px; height:160px; margin: 0px; float: left; border: 1px solid black;' src='https://lh4.googleusercontent.com/-0uPV91DAcKo/UBHU1FvOmrI/AAAAAAAAAKs/LvS5wp619Zw/s96/' /><img style='width: 200px; height:160px; margin: 0px; float: left; border: 1px solid black;' src='https://lh5.googleusercontent.com/-k6uK-PGbc0w/TB5Vwe6Ji9I/AAAAAAAAPSs/bJnIisUM8c4/rj/' /><img style='width: 200px; height:160px; margin: 0px; float: left; border: 1px solid black;' src='http://lh3.ggpht.com/-mQGf_JJCygc/Ta9fEhdlBnI/AAAAAAAAFXg/slPUgSnY75w/s96/' /><img style='width: 200px; height:160px; margin: 0px; float: left; border: 1px solid black;' src='https://lh3.googleusercontent.com/-LDTuPv95PCY/RSQyNS1pABI/AAAAAAAAAdU/R_j-1MVKiTo/s96/' /><img style='width: 200px; height:160px; margin: 0px; float: left; border: 1px solid black;' src='http://lh3.ggpht.com/-SIQt3BlN_1w/SHjw4YPNAVI/AAAAAAAACOY/Xg-mwKE2gCY/s96/' />"
      ],
      "text/plain": [
       "<IPython.core.display.HTML object>"
      ]
     },
     "metadata": {},
     "output_type": "display_data"
    }
   ],
   "source": [
    "from IPython.display import Image\n",
    "from IPython.core.display import HTML \n",
    "\n",
    "def displayLandmarkImagesLarge(urls, category_name):\n",
    "    img_style = \"width: 200px; height:160px; margin: 0px; float: left; border: 1px solid black;\"\n",
    "    images_list = ''.join([f\"<img style='{img_style}' src='{u}' />\" for _, u in urls.head(12).iteritems()])\n",
    "    display(HTML(images_list))\n",
    "\n",
    "category = data['landmark_id'].value_counts().keys()[15]\n",
    "urls = data[data['landmark_id'] == category]['url']\n",
    "displayLandmarkImagesLarge(urls, \"\")"
   ]
  },
  {
   "cell_type": "code",
   "execution_count": 22,
   "metadata": {
    "pycharm": {
     "is_executing": false
    }
   },
   "outputs": [
    {
     "data": {
      "text/plain": [
       "1    6051\n",
       "2    6599\n",
       "3    9779\n",
       "dtype: int64"
      ]
     },
     "execution_count": 22,
     "metadata": {},
     "output_type": "execute_result"
    }
   ],
   "source": [
    "pd.Series(data['landmark_id'].value_counts().keys())[1:4]"
   ]
  },
  {
   "cell_type": "markdown",
   "metadata": {},
   "source": [
    "### Predictions using weights from ImageNet"
   ]
  },
  {
   "cell_type": "markdown",
   "metadata": {},
   "source": [
    "Before proceeding with any model training, VGG16 architecture trained on Imagenet dataset is picked up and is used to predict on the images that we had. Observation: Imagenet weights are successfully able to capture the generic features from landmarks."
   ]
  },
  {
   "cell_type": "code",
   "execution_count": 31,
   "metadata": {
    "pycharm": {
     "is_executing": false
    }
   },
   "outputs": [
    {
     "name": "stdout",
     "output_type": "stream",
     "text": [
      "Predicted: [('n09468604', 'valley', 0.48527926), ('n09399592', 'promontory', 0.1536856), ('n09246464', 'cliff', 0.12624218)]\n"
     ]
    }
   ],
   "source": [
    "from keras.applications.vgg16 import VGG16\n",
    "from keras.preprocessing import image\n",
    "from keras.applications.vgg16 import preprocess_input, decode_predictions\n",
    "import numpy as np\n",
    "\n",
    "model =VGG16(weights = 'imagenet', include_top = True)\n",
    "\n",
    "img_path = r'..\\Dataset\\DataFiltered\\train_images_model\\0fecac19aec6d24c.jpg'\n",
    "img = image.load_img(img_path, target_size= (224,224))\n",
    "x = image.img_to_array(img)\n",
    "x = np.expand_dims(x, axis = 0)\n",
    "x = preprocess_input(x)\n",
    "\n",
    "preds = model.predict(x)\n",
    "print ('Predicted:', decode_predictions(preds, top = 3)[0])\n",
    "\n",
    "# 0a0667fc2436a04b = stupa (17%)\n",
    "# 0b48dd3b81d5b6ba = triumphal_arch(25%)"
   ]
  },
  {
   "cell_type": "code",
   "execution_count": null,
   "metadata": {
    "pycharm": {
     "is_executing": false
    }
   },
   "outputs": [],
   "source": [
    "# available = [int((x[0].split('/'))[-1]) for x in os.walk(r'Data/train_images_model/') if len((x[0].split('/'))[-1]) > 0]\n",
    "# new = [str(x) for x in range(1,14000) if x not in available]\n",
    "# for i in new:\n",
    "#     path = 'Data/train_images_model/' + i\n",
    "#     if not os.path.exists(path):\n",
    "#         os.makedirs(path)"
   ]
  },
  {
   "cell_type": "markdown",
   "metadata": {},
   "source": [
    "# Model Training - Transfer Learning"
   ]
  },
  {
   "cell_type": "code",
   "execution_count": null,
   "metadata": {
    "pycharm": {
     "is_executing": false
    }
   },
   "outputs": [],
   "source": [
    "import numpy as np\n",
    "from keras.preprocessing.image import ImageDataGenerator, img_to_array, load_img\n",
    "from keras.models import Sequential\n",
    "from keras.layers import Dropout, Flatten, Dense\n",
    "from keras import applications\n",
    "from keras.preprocessing.image import ImageDataGenerator\n",
    "from keras import optimizers\n",
    "from keras.utils.np_utils import to_categorical\n",
    "from keras.callbacks import ModelCheckpoint\n",
    "from keras.models import Model\n",
    "import csv\n",
    "import os\n",
    "import cv2\n",
    "from keras.models import load_model\n",
    "import matplotlib.pyplot as plt\n",
    "import math\n",
    "from keras.optimizers import Adam\n",
    "from sklearn.model_selection import train_test_split\n",
    "from keras.preprocessing.image import img_to_array\n",
    "from keras.utils import to_categorical\n",
    "import matplotlib.pyplot as plt\n",
    "import numpy as np\n",
    "import argparse\n",
    "import random\n",
    "import tensorflow as tf\n",
    "import keras"
   ]
  },
  {
   "cell_type": "code",
   "execution_count": 10,
   "metadata": {
    "pycharm": {
     "is_executing": false
    }
   },
   "outputs": [
    {
     "name": "stdout",
     "output_type": "stream",
     "text": [
      "0\n",
      "0\n",
      "[0, []]\n",
      "[0, []]\n"
     ]
    }
   ],
   "source": [
    "train_data_dir = 'Data/train_images_model'\n",
    "validation_data_dir = 'Data/validation_images_model'\n",
    "\n",
    "#counts the number of files in subdirectories of a given directory. \n",
    "#outputs the count of images and label of each image in order of reading.\n",
    "\n",
    "def count(dir):\n",
    "    i = 1\n",
    "    count = []\n",
    "    while i <= 50:\n",
    "    \n",
    "        f = str(i)\n",
    "        #print (f)\n",
    "        for root, dirs, files in os.walk(dir +'/'+ f):  # loop through startfolders\n",
    "            for pic in files:\n",
    "                count.append(f)   \n",
    "        i += 1\n",
    "    print (len(count))\n",
    "    return ([len(count),count])\n",
    "\n",
    "nb_train_samples = count(train_data_dir)\n",
    "nb_validation_samples = count(validation_data_dir)\n",
    "print(nb_train_samples)\n",
    "print(nb_validation_samples)\n",
    "\n",
    "# nb_train/validation_samples is a list of lists of the format [len(count),count]. len(count) is the total number of images in \n",
    "# train/validation folder. count is a list of class labels i.e. landmark IDs of the images read."
   ]
  },
  {
   "cell_type": "markdown",
   "metadata": {},
   "source": [
    "In the next steps, a batch size will be defined, which needs to be a factor of both the number of train and validation images. I had to remove a certain number of images in the process. Use the code below to move some images out of the train/validation folder in order to get a common factor in the range of 100-1000 (approx.). This common factor will be used as the batch size going forward.\n",
    "A folder named 'Data/moved_images' has to be created before executing the below. "
   ]
  },
  {
   "cell_type": "code",
   "execution_count": 11,
   "metadata": {
    "pycharm": {
     "is_executing": false
    }
   },
   "outputs": [],
   "source": [
    "# CL = '2338' #class from which to move images\n",
    "# NI = 50 #Number of images to be moved\n",
    "\n",
    "# i = 0\n",
    "# for files in os.listdir(r'Data/train_images_model/' + CL):    # loop through startfolders\n",
    "#             i+=1\n",
    "#             inpath = r'Data/train_images_model/' + CL + '/' + files\n",
    "#             outpath = r'Data/moved_images' \n",
    "#             shutil.move(inpath, outpath)\n",
    "#             if i == NI:\n",
    "#                 break"
   ]
  },
  {
   "cell_type": "markdown",
   "metadata": {},
   "source": [
    "#### Converting images to vectors using weights from ImageNet on VGG16"
   ]
  },
  {
   "cell_type": "code",
   "execution_count": 12,
   "metadata": {
    "pycharm": {
     "is_executing": false
    }
   },
   "outputs": [
    {
     "name": "stderr",
     "output_type": "stream",
     "text": [
      "WARNING: Logging before flag parsing goes to stderr.\n",
      "W0714 00:42:02.518367 26388 deprecation_wrapper.py:119] From C:\\Users\\User\\AppData\\Local\\Continuum\\anaconda3\\lib\\site-packages\\keras\\backend\\tensorflow_backend.py:74: The name tf.get_default_graph is deprecated. Please use tf.compat.v1.get_default_graph instead.\n",
      "\n",
      "W0714 00:42:02.591372 26388 deprecation_wrapper.py:119] From C:\\Users\\User\\AppData\\Local\\Continuum\\anaconda3\\lib\\site-packages\\keras\\backend\\tensorflow_backend.py:517: The name tf.placeholder is deprecated. Please use tf.compat.v1.placeholder instead.\n",
      "\n",
      "W0714 00:42:02.612375 26388 deprecation_wrapper.py:119] From C:\\Users\\User\\AppData\\Local\\Continuum\\anaconda3\\lib\\site-packages\\keras\\backend\\tensorflow_backend.py:4138: The name tf.random_uniform is deprecated. Please use tf.random.uniform instead.\n",
      "\n",
      "W0714 00:42:02.691380 26388 deprecation_wrapper.py:119] From C:\\Users\\User\\AppData\\Local\\Continuum\\anaconda3\\lib\\site-packages\\keras\\backend\\tensorflow_backend.py:3976: The name tf.nn.max_pool is deprecated. Please use tf.nn.max_pool2d instead.\n",
      "\n",
      "W0714 00:42:03.943715 26388 deprecation_wrapper.py:119] From C:\\Users\\User\\AppData\\Local\\Continuum\\anaconda3\\lib\\site-packages\\keras\\backend\\tensorflow_backend.py:174: The name tf.get_default_session is deprecated. Please use tf.compat.v1.get_default_session instead.\n",
      "\n",
      "W0714 00:42:03.945714 26388 deprecation_wrapper.py:119] From C:\\Users\\User\\AppData\\Local\\Continuum\\anaconda3\\lib\\site-packages\\keras\\backend\\tensorflow_backend.py:181: The name tf.ConfigProto is deprecated. Please use tf.compat.v1.ConfigProto instead.\n",
      "\n"
     ]
    },
    {
     "name": "stdout",
     "output_type": "stream",
     "text": [
      "_________________________________________________________________\n",
      "Layer (type)                 Output Shape              Param #   \n",
      "=================================================================\n",
      "input_1 (InputLayer)         (None, 96, 96, 3)         0         \n",
      "_________________________________________________________________\n",
      "block1_conv1 (Conv2D)        (None, 96, 96, 64)        1792      \n",
      "_________________________________________________________________\n",
      "block1_conv2 (Conv2D)        (None, 96, 96, 64)        36928     \n",
      "_________________________________________________________________\n",
      "block1_pool (MaxPooling2D)   (None, 48, 48, 64)        0         \n",
      "_________________________________________________________________\n",
      "block2_conv1 (Conv2D)        (None, 48, 48, 128)       73856     \n",
      "_________________________________________________________________\n",
      "block2_conv2 (Conv2D)        (None, 48, 48, 128)       147584    \n",
      "_________________________________________________________________\n",
      "block2_pool (MaxPooling2D)   (None, 24, 24, 128)       0         \n",
      "_________________________________________________________________\n",
      "block3_conv1 (Conv2D)        (None, 24, 24, 256)       295168    \n",
      "_________________________________________________________________\n",
      "block3_conv2 (Conv2D)        (None, 24, 24, 256)       590080    \n",
      "_________________________________________________________________\n",
      "block3_conv3 (Conv2D)        (None, 24, 24, 256)       590080    \n",
      "_________________________________________________________________\n",
      "block3_pool (MaxPooling2D)   (None, 12, 12, 256)       0         \n",
      "_________________________________________________________________\n",
      "block4_conv1 (Conv2D)        (None, 12, 12, 512)       1180160   \n",
      "_________________________________________________________________\n",
      "block4_conv2 (Conv2D)        (None, 12, 12, 512)       2359808   \n",
      "_________________________________________________________________\n",
      "block4_conv3 (Conv2D)        (None, 12, 12, 512)       2359808   \n",
      "_________________________________________________________________\n",
      "block4_pool (MaxPooling2D)   (None, 6, 6, 512)         0         \n",
      "_________________________________________________________________\n",
      "block5_conv1 (Conv2D)        (None, 6, 6, 512)         2359808   \n",
      "_________________________________________________________________\n",
      "block5_conv2 (Conv2D)        (None, 6, 6, 512)         2359808   \n",
      "_________________________________________________________________\n",
      "block5_conv3 (Conv2D)        (None, 6, 6, 512)         2359808   \n",
      "_________________________________________________________________\n",
      "block5_pool (MaxPooling2D)   (None, 3, 3, 512)         0         \n",
      "=================================================================\n",
      "Total params: 14,714,688\n",
      "Trainable params: 14,714,688\n",
      "Non-trainable params: 0\n",
      "_________________________________________________________________\n",
      "None\n",
      "start1\n"
     ]
    },
    {
     "ename": "FileNotFoundError",
     "evalue": "[WinError 3] The system cannot find the path specified: 'Data/train_images_model'",
     "output_type": "error",
     "traceback": [
      "\u001b[1;31m---------------------------------------------------------------------------\u001b[0m",
      "\u001b[1;31mFileNotFoundError\u001b[0m                         Traceback (most recent call last)",
      "\u001b[1;32m<ipython-input-12-160e3627077b>\u001b[0m in \u001b[0;36m<module>\u001b[1;34m\u001b[0m\n\u001b[0;32m     55\u001b[0m \u001b[1;33m\u001b[0m\u001b[0m\n\u001b[0;32m     56\u001b[0m     \u001b[0mprint\u001b[0m \u001b[1;33m(\u001b[0m\u001b[1;34m'validation done'\u001b[0m\u001b[1;33m)\u001b[0m\u001b[1;33m\u001b[0m\u001b[1;33m\u001b[0m\u001b[0m\n\u001b[1;32m---> 57\u001b[1;33m \u001b[0msave_bottleneck_features\u001b[0m\u001b[1;33m(\u001b[0m\u001b[1;33m)\u001b[0m\u001b[1;33m\u001b[0m\u001b[1;33m\u001b[0m\u001b[0m\n\u001b[0m\u001b[0;32m     58\u001b[0m \u001b[1;33m\u001b[0m\u001b[0m\n",
      "\u001b[1;32m<ipython-input-12-160e3627077b>\u001b[0m in \u001b[0;36msave_bottleneck_features\u001b[1;34m()\u001b[0m\n\u001b[0;32m     24\u001b[0m         \u001b[0mbatch_size\u001b[0m\u001b[1;33m=\u001b[0m\u001b[0mbatch_size\u001b[0m\u001b[1;33m,\u001b[0m\u001b[1;33m\u001b[0m\u001b[1;33m\u001b[0m\u001b[0m\n\u001b[0;32m     25\u001b[0m         \u001b[0mclass_mode\u001b[0m\u001b[1;33m=\u001b[0m\u001b[1;32mNone\u001b[0m\u001b[1;33m,\u001b[0m \u001b[1;31m# this means our generator will only yield batches of data, no labels\u001b[0m\u001b[1;33m\u001b[0m\u001b[1;33m\u001b[0m\u001b[0m\n\u001b[1;32m---> 26\u001b[1;33m         shuffle=False) # our data will be in order\n\u001b[0m\u001b[0;32m     27\u001b[0m \u001b[1;33m\u001b[0m\u001b[0m\n\u001b[0;32m     28\u001b[0m \u001b[1;31m#     the predict_generator method returns the output of a model, given a generator that yields batches of numpy data\u001b[0m\u001b[1;33m\u001b[0m\u001b[1;33m\u001b[0m\u001b[1;33m\u001b[0m\u001b[0m\n",
      "\u001b[1;32m~\\AppData\\Local\\Continuum\\anaconda3\\lib\\site-packages\\keras_preprocessing\\image\\image_data_generator.py\u001b[0m in \u001b[0;36mflow_from_directory\u001b[1;34m(self, directory, target_size, color_mode, classes, class_mode, batch_size, shuffle, seed, save_to_dir, save_prefix, save_format, follow_links, subset, interpolation)\u001b[0m\n\u001b[0;32m    538\u001b[0m             \u001b[0mfollow_links\u001b[0m\u001b[1;33m=\u001b[0m\u001b[0mfollow_links\u001b[0m\u001b[1;33m,\u001b[0m\u001b[1;33m\u001b[0m\u001b[1;33m\u001b[0m\u001b[0m\n\u001b[0;32m    539\u001b[0m             \u001b[0msubset\u001b[0m\u001b[1;33m=\u001b[0m\u001b[0msubset\u001b[0m\u001b[1;33m,\u001b[0m\u001b[1;33m\u001b[0m\u001b[1;33m\u001b[0m\u001b[0m\n\u001b[1;32m--> 540\u001b[1;33m             \u001b[0minterpolation\u001b[0m\u001b[1;33m=\u001b[0m\u001b[0minterpolation\u001b[0m\u001b[1;33m\u001b[0m\u001b[1;33m\u001b[0m\u001b[0m\n\u001b[0m\u001b[0;32m    541\u001b[0m         )\n\u001b[0;32m    542\u001b[0m \u001b[1;33m\u001b[0m\u001b[0m\n",
      "\u001b[1;32m~\\AppData\\Local\\Continuum\\anaconda3\\lib\\site-packages\\keras_preprocessing\\image\\directory_iterator.py\u001b[0m in \u001b[0;36m__init__\u001b[1;34m(self, directory, image_data_generator, target_size, color_mode, classes, class_mode, batch_size, shuffle, seed, data_format, save_to_dir, save_prefix, save_format, follow_links, subset, interpolation, dtype)\u001b[0m\n\u001b[0;32m    104\u001b[0m         \u001b[1;32mif\u001b[0m \u001b[1;32mnot\u001b[0m \u001b[0mclasses\u001b[0m\u001b[1;33m:\u001b[0m\u001b[1;33m\u001b[0m\u001b[1;33m\u001b[0m\u001b[0m\n\u001b[0;32m    105\u001b[0m             \u001b[0mclasses\u001b[0m \u001b[1;33m=\u001b[0m \u001b[1;33m[\u001b[0m\u001b[1;33m]\u001b[0m\u001b[1;33m\u001b[0m\u001b[1;33m\u001b[0m\u001b[0m\n\u001b[1;32m--> 106\u001b[1;33m             \u001b[1;32mfor\u001b[0m \u001b[0msubdir\u001b[0m \u001b[1;32min\u001b[0m \u001b[0msorted\u001b[0m\u001b[1;33m(\u001b[0m\u001b[0mos\u001b[0m\u001b[1;33m.\u001b[0m\u001b[0mlistdir\u001b[0m\u001b[1;33m(\u001b[0m\u001b[0mdirectory\u001b[0m\u001b[1;33m)\u001b[0m\u001b[1;33m)\u001b[0m\u001b[1;33m:\u001b[0m\u001b[1;33m\u001b[0m\u001b[1;33m\u001b[0m\u001b[0m\n\u001b[0m\u001b[0;32m    107\u001b[0m                 \u001b[1;32mif\u001b[0m \u001b[0mos\u001b[0m\u001b[1;33m.\u001b[0m\u001b[0mpath\u001b[0m\u001b[1;33m.\u001b[0m\u001b[0misdir\u001b[0m\u001b[1;33m(\u001b[0m\u001b[0mos\u001b[0m\u001b[1;33m.\u001b[0m\u001b[0mpath\u001b[0m\u001b[1;33m.\u001b[0m\u001b[0mjoin\u001b[0m\u001b[1;33m(\u001b[0m\u001b[0mdirectory\u001b[0m\u001b[1;33m,\u001b[0m \u001b[0msubdir\u001b[0m\u001b[1;33m)\u001b[0m\u001b[1;33m)\u001b[0m\u001b[1;33m:\u001b[0m\u001b[1;33m\u001b[0m\u001b[1;33m\u001b[0m\u001b[0m\n\u001b[0;32m    108\u001b[0m                     \u001b[0mclasses\u001b[0m\u001b[1;33m.\u001b[0m\u001b[0mappend\u001b[0m\u001b[1;33m(\u001b[0m\u001b[0msubdir\u001b[0m\u001b[1;33m)\u001b[0m\u001b[1;33m\u001b[0m\u001b[1;33m\u001b[0m\u001b[0m\n",
      "\u001b[1;31mFileNotFoundError\u001b[0m: [WinError 3] The system cannot find the path specified: 'Data/train_images_model'"
     ]
    }
   ],
   "source": [
    "## Had to remove images (1046 - 6c39ce7ee33cea49.jpg)(1310 - f2bf3d0a94733000.jpg) (1834 - 35494ec38ca8b6ff.jpg) \n",
    "##(1946 - aa108073efc35e13.jpg) (2729 - 43608f66f2f680e3.jpg) (2975 - bf4b45efc3dfda07.jpg) \n",
    "# because were throwing error while running the code.\n",
    "\n",
    "img_width, img_height = 96, 96 # dimensions of downloaded images.\n",
    "top_model_weights_path = 'bottleneck_fc_model.h5' # A file with this name would be saved later in the code\n",
    "epochs = 5\n",
    "batch_size = 1000 #As found in the previous step\n",
    "def save_bottleneck_features():\n",
    "    datagen = ImageDataGenerator(rescale=1. / 255,\n",
    "                                 rotation_range=30,\n",
    "                                 width_shift_range=0.2,\n",
    "                                 height_shift_range=0.2,\n",
    "                                 zoom_range = 0.5,\n",
    "                                 brightness_range = [0.5,1.5])\n",
    "\n",
    "#     build the VGG16 network\n",
    "    model = applications.VGG16(include_top=False, weights='imagenet', input_shape=(96,96,3))\n",
    "    print(model.summary())\n",
    "    print ('start1')\n",
    "    generator = datagen.flow_from_directory(\n",
    "        train_data_dir,\n",
    "        target_size=(img_width, img_height),\n",
    "        batch_size=batch_size,\n",
    "        class_mode=None, # this means our generator will only yield batches of data, no labels\n",
    "        shuffle=False) # our data will be in order\n",
    "    \n",
    "#     the predict_generator method returns the output of a model, given a generator that yields batches of numpy data\n",
    "    print ('start2')\n",
    "    bottleneck_features_train = model.predict_generator(generator, nb_train_samples[0] // batch_size) #nb_train_samples[0]\n",
    "    print ('bottleneck_features_trained')\n",
    "    print(nb_train_samples[0])\n",
    "    print (bottleneck_features_train)\n",
    "    \n",
    "    \n",
    "    with open('bottleneck_features_train.npy', 'wb') as features_train_file:\n",
    "        np.save(features_train_file, bottleneck_features_train)\n",
    "    print ('Train done')\n",
    "    \n",
    "\n",
    "## Had to remove (2061 - a32ee99990779b22.jpg) because was throwing an error\n",
    "    datagen = ImageDataGenerator(rescale=1. / 255) #No image augmentation in validation dataset\n",
    "    generator = datagen.flow_from_directory(\n",
    "        validation_data_dir,\n",
    "        target_size=(img_width, img_height),\n",
    "        batch_size=batch_size,\n",
    "        class_mode=None,\n",
    "        shuffle=False)\n",
    "    print ('validation predict start')\n",
    "    bottleneck_features_validation = model.predict_generator(generator, nb_validation_samples[0] // batch_size)\n",
    "    print (bottleneck_features_validation)\n",
    "\n",
    "    with open('bottleneck_features_validation.npy', 'wb') as features_validation_file:\n",
    "        np.save(features_validation_file, bottleneck_features_validation)\n",
    "    \n",
    "    print ('validation done')\n",
    "save_bottleneck_features()"
   ]
  },
  {
   "cell_type": "markdown",
   "metadata": {},
   "source": [
    "#### Initializing the weights on top 3 layers"
   ]
  },
  {
   "cell_type": "code",
   "execution_count": null,
   "metadata": {
    "pycharm": {
     "is_executing": false
    },
    "scrolled": true
   },
   "outputs": [],
   "source": [
    "epochs = 5\n",
    "batch_size = 1000\n",
    "import numpy as np\n",
    "\n",
    "def train_top_model():\n",
    "    train_data = np.load(open('bottleneck_features_train.npy', 'rb'))\n",
    "    train_labels = np.array(nb_train_samples[1])\n",
    "    train_labels = [str(int(train_label) - 1) for train_label in train_labels] \n",
    "    #Had to subtract 1000 because class labels should start from 0. In this case, class labels had a range from 1000 to 2999. \n",
    "#     print (train_labels)\n",
    "    validation_data = np.load(open('bottleneck_features_validation.npy', 'rb'))\n",
    "    validation_labels = np.array(nb_validation_samples[1])\n",
    "    validation_labels = [str(int(validation_label) - 1) for validation_label in validation_labels]\n",
    "    \n",
    "#     print (validation_labels)\n",
    "    model = Sequential()\n",
    "    model.add(Flatten(input_shape=train_data.shape[1:]))\n",
    "    model.add(Dense(256, activation='relu'))\n",
    "    model.add(Dense(256, activation='relu'))\n",
    "    n_class = 50 #number of classes fed to the model\n",
    "    model.add(Dense(n_class, activation='softmax'))\n",
    "    model.compile(optimizer='rmsprop',\n",
    "                  loss='categorical_crossentropy', metrics=['accuracy'])\n",
    "    train_labels = to_categorical(train_labels, n_class)\n",
    "    validation_labels = to_categorical(validation_labels, n_class)\n",
    "    \n",
    "    \n",
    "    print ('model fit starting')\n",
    "    model.fit(train_data, train_labels,\n",
    "              epochs=epochs,\n",
    "              batch_size=batch_size,\n",
    "              validation_data=(validation_data, validation_labels))\n",
    "    model.save_weights(top_model_weights_path)\n",
    "\n",
    "train_top_model()"
   ]
  },
  {
   "cell_type": "markdown",
   "metadata": {},
   "source": [
    "#### Compile and train the entire model"
   ]
  },
  {
   "cell_type": "code",
   "execution_count": null,
   "metadata": {
    "pycharm": {
     "is_executing": false
    },
    "scrolled": true
   },
   "outputs": [],
   "source": [
    " img_width, img_height = 96, 96\n",
    "top_model_weights_path = 'bottleneck_fc_model.h5'\n",
    "train_data_dir = 'Data/train_images_model'\n",
    "validation_data_dir = 'Data/validation_images_model'\n",
    "batch_size = 100\n",
    "epochs = 15\n",
    "def trainCNN():\n",
    "\n",
    "    # build the VGG16 network\n",
    "\n",
    "    base_model = applications.VGG16(weights='imagenet',include_top= False,input_shape=(96,96,3))\n",
    "\n",
    "    top_model = Sequential()\n",
    "    top_model.add(Flatten(input_shape=base_model.output_shape[1:]))\n",
    "    top_model.add(Dense(256, activation='relu'))\n",
    "    top_model.add(Dense(256, activation='relu'))\n",
    "    n_class = 50\n",
    "    top_model.add(Dense(n_class, activation='softmax'))\n",
    "    top_model.load_weights(top_model_weights_path) #Load the weights initialized in previous steps\n",
    "    \n",
    "\n",
    "    model = Model(input= base_model.input, output= top_model(base_model.output))\n",
    "    \n",
    "    # set the first 16 layers to non-trainable (weights will not be updated) - 1 conv layer and three dense layers will be trained\n",
    "    for layer in model.layers[:16]:\n",
    "        layer.trainable = False\n",
    "\n",
    "    # compile the model with a SGD/momentum optimizer and a very slow learning rate.\n",
    "    model.compile(loss='categorical_crossentropy',\n",
    "                  optimizer=optimizers.Adam(lr=0.0001, beta_1=0.9,beta_2=0.999,epsilon=1e-8, decay=0.0),\n",
    "                  metrics=['accuracy'])\n",
    "    print ('Compilation done.')\n",
    "    \n",
    "    train_datagen = ImageDataGenerator(rescale=1. / 255,\n",
    "                                       rotation_range=90,\n",
    "                                        width_shift_range=0.2,\n",
    "                                        height_shift_range=0.2,\n",
    "                                        zoom_range = 0.5)\n",
    "    \n",
    "    valid_datagen = ImageDataGenerator(rescale=1. / 255)\n",
    "\n",
    "    train_generator = train_datagen.flow_from_directory(\n",
    "        train_data_dir,\n",
    "        target_size=(img_height, img_width),\n",
    "        batch_size=batch_size,\n",
    "        class_mode='categorical')\n",
    "\n",
    "    np.save('class_indices.npy', train_generator.class_indices)\n",
    "\n",
    "    validation_generator = valid_datagen.flow_from_directory(\n",
    "        validation_data_dir,\n",
    "        target_size=(img_height, img_width),\n",
    "        batch_size=batch_size,\n",
    "        class_mode='categorical')\n",
    "    \n",
    "    print ('Model fit begins...')\n",
    "    model.fit_generator(\n",
    "        train_generator,\n",
    "        steps_per_epoch=340,\n",
    "        epochs=epochs,\n",
    "        validation_data=validation_generator,\n",
    "        validation_steps=150,\n",
    "        callbacks=[ModelCheckpoint(filepath=top_model_weights_path, save_best_only=True, save_weights_only=True)]\n",
    "        )\n",
    "    \n",
    "    model.save_weights(top_model_weights_path)\n",
    "\n",
    "trainCNN()"
   ]
  },
  {
   "cell_type": "code",
   "execution_count": null,
   "metadata": {
    "pycharm": {
     "is_executing": false
    }
   },
   "outputs": [],
   "source": []
  },
  {
   "cell_type": "markdown",
   "metadata": {},
   "source": [
    "# Predictions"
   ]
  },
  {
   "cell_type": "code",
   "execution_count": null,
   "metadata": {
    "pycharm": {
     "is_executing": false
    }
   },
   "outputs": [],
   "source": [
    "from tensorflow.python.platform import app\n",
    "import argparse\n",
    "import os\n",
    "import sys\n",
    "import time\n",
    "from time import *\n",
    "import io\n",
    "import tensorflow as tf"
   ]
  },
  {
   "cell_type": "code",
   "execution_count": null,
   "metadata": {
    "pycharm": {
     "is_executing": false
    }
   },
   "outputs": [],
   "source": [
    "top_model_weights_path = 'bottleneck_fc_model.h5'\n",
    "train_data_dir = 'Data/train_images_model'\n",
    "testfile = 'Data/test_images_from_train'\n",
    "\n",
    "subfile = 'Data/sub_spezifinal.csv'\n",
    "\n",
    "def count(dir):\n",
    "    i = 1\n",
    "    count = []\n",
    "    while i <= 9:\n",
    "        f = str(i)\n",
    "        for root, dirs, files in os.walk(dir +'/'+ f):  # loop through startfolders\n",
    "            for pic in files:\n",
    "                count.append(pic)\n",
    "\n",
    "        i += 1\n",
    "    return len(count)\n",
    "\n",
    "nb_train_samples = count(train_data_dir)\n",
    "nb_validation_samples = count(validation_data_dir)"
   ]
  },
  {
   "cell_type": "code",
   "execution_count": null,
   "metadata": {
    "pycharm": {
     "is_executing": false
    }
   },
   "outputs": [],
   "source": [
    "from keras import backend as K \n",
    "from keras.applications.vgg16 import preprocess_input, decode_predictions\n",
    "def predict(image_path):\n",
    "    print ('starting...')\n",
    "    path, dirs, files = next(os.walk(image_path))\n",
    "    file_len = len(files)\n",
    "    print('Number of Testimages:', file_len)\n",
    "\n",
    "    train_datagen = ImageDataGenerator(rescale=1. / 255)\n",
    "\n",
    "    generator = train_datagen.flow_from_directory(train_data_dir, batch_size=batch_size)\n",
    "    label_map = (generator.class_indices)\n",
    "\n",
    "    n_class = 50+\n",
    "\n",
    "    with open(subfile, 'w') as csvfile:\n",
    "        newFileWriter = csv.writer(csvfile)\n",
    "        newFileWriter.writerow(['id', 'landmarks'])\n",
    "\n",
    "        file_counter = 0\n",
    "        for root, dirs, files in os.walk(image_path):  # loop through startfolders\n",
    "            for pic in files:\n",
    "                t1 = clock()\n",
    "\n",
    "                #loop folder and convert image\n",
    "                path = image_path + '/' + pic\n",
    "\n",
    "\n",
    "                orig = cv2.imread(path)\n",
    "                image = load_img(path, target_size=(96, 96))\n",
    "                image = img_to_array(image)\n",
    "\n",
    "                # important! otherwise the predictions will be '0'\n",
    "                image = image / 255\n",
    "\n",
    "                image = np.expand_dims(image, axis=0)\n",
    "\n",
    "                #classify landmark\n",
    "                base_model = applications.VGG16(weights='imagenet', include_top=False, input_shape=(96, 96, 3))\n",
    "\n",
    "                top_model = Sequential()\n",
    "                top_model.add(Flatten(input_shape=base_model.output_shape[1:]))\n",
    "                top_model.add(Dense(256, activation='relu'))\n",
    "                top_model.add(Dense(256, activation='relu'))\n",
    "                top_model.add(Dense(n_class, activation='softmax'))\n",
    "\n",
    "                model = Model(input=base_model.input, output=top_model(base_model.output))\n",
    "                model.load_weights(top_model_weights_path)\n",
    "\n",
    "                prediction = model.predict(image)\n",
    "                #print(prediction)\n",
    "                \n",
    "                #print ('Predicted:', decode_predictions(prediction, top = 3)[0])\n",
    "                \n",
    "                class_predicted = prediction.argmax(axis=1)\n",
    "                #class_predicted = np.argmax(prediction,axis=1)\n",
    "                #print (pic, class_predicted)\n",
    "\n",
    "\n",
    "                inID = class_predicted[0]\n",
    "                #print (inID)\n",
    "\n",
    "                inv_map = {v: k for k, v in label_map.items()}\n",
    "#                 print (class_dictionary)\n",
    "\n",
    "                label = inv_map[inID]\n",
    "                #print(label)\n",
    "\n",
    "                score = max(prediction[0])\n",
    "                scor = \"{:.2f}\".format(score)\n",
    "                out = str(label) + ' '+ scor\n",
    "\n",
    "                #print (score)\n",
    "\n",
    "                newFileWriter.writerow([os.path.splitext(pic)[0], out])\n",
    "                print (os.path.splitext(pic)[0], scor,data_test[(data_test.id == os.path.splitext(pic)[0])].landmark_id,label)\n",
    "\n",
    "                K.clear_session()\n",
    "\n",
    "testfile = 'Data/test_images_from_train'\n",
    "predict(testfile)\n",
    "\n"
   ]
  },
  {
   "cell_type": "code",
   "execution_count": null,
   "metadata": {
    "pycharm": {
     "is_executing": false
    }
   },
   "outputs": [],
   "source": [
    " toco \\ --output_file=trained_model.tflite \\ --keras_model_file=bottleneck_fc_model.h5"
   ]
  },
  {
   "cell_type": "code",
   "execution_count": null,
   "metadata": {
    "pycharm": {
     "is_executing": false
    }
   },
   "outputs": [],
   "source": [
    "pip install toco\n"
   ]
  },
  {
   "cell_type": "code",
   "execution_count": null,
   "metadata": {
    "pycharm": {
     "is_executing": false
    }
   },
   "outputs": [],
   "source": []
  }
 ],
 "metadata": {
  "kernelspec": {
   "display_name": "Python 3",
   "language": "python",
   "name": "python3"
  },
  "language_info": {
   "codemirror_mode": {
    "name": "ipython",
    "version": 3
   },
   "file_extension": ".py",
   "mimetype": "text/x-python",
   "name": "python",
   "nbconvert_exporter": "python",
   "pygments_lexer": "ipython3",
   "version": "3.7.3"
  },
  "pycharm": {
   "stem_cell": {
    "cell_type": "raw",
    "metadata": {
     "collapsed": false
    },
    "source": []
   }
  }
 },
 "nbformat": 4,
 "nbformat_minor": 2
}
